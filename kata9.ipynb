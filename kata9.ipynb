{
  "cells": [
    {
      "cell_type": "markdown",
      "metadata": {},
      "source": [
        "# Ejercicio: Uso de funciones en Python"
      ]
    },
    {
      "cell_type": "markdown",
      "metadata": {},
      "source": [
        "### Ejercicio 1: Trabajar con argumentos en funciones\n",
        "\n",
        "Los argumentos requeridos en las funciones se utilizan cuando las funciones necesitan que esos argumentos funcionen correctamente. En este ejercicio, construirás un informe de combustible que requiere información de varias ubicaciones de combustible en todo el cohete.\n",
        "\n"
      ]
    },
    {
      "cell_type": "markdown",
      "metadata": {},
      "source": [
        "> **TIP**\n",
        "> Dedica unos minutos para tratar de encontrar una solución. Luego desplázate hacia abajo hasta la parte inferior para ver si has logrado compilar el programa de acuerdo con las especificaciones\n",
        "\n",
        "Comienza por crear una función que necesite tres lecturas de combustible y devuelva un informe:"
      ]
    },
    {
      "cell_type": "code",
      "execution_count": 17,
      "metadata": {},
      "outputs": [],
      "source": [
        "# Función para leer 3 tanques de combustible y muestre el promedio\n",
        "def combustible(tanque1, tanque2, tanque3):\n",
        "    promedio=(tanque1+tanque2+tanque3)/3\n",
        "    return f\"\"\"El promedio de combustible es {promedio}\n",
        "    ...El combustible del tanque 1 es  {tanque1}\n",
        "    ...El combustible del tanque 2 es  {tanque2}\n",
        "    ...El combustible del tanque 3 es {tanque3}\"\"\""
      ]
    },
    {
      "cell_type": "markdown",
      "metadata": {},
      "source": [
        "Ahora que hemos definido la función de informes, vamos a comprobarlo. Para esta misión, los tanques no están llenos:"
      ]
    },
    {
      "cell_type": "code",
      "execution_count": 18,
      "metadata": {},
      "outputs": [
        {
          "name": "stdout",
          "output_type": "stream",
          "text": [
            "El promedio de combustible es 150.0\n",
            "    ...El combustible del tanque 1 es  100\n",
            "    ...El combustible del tanque 2 es  150\n",
            "    ...El combustible del tanque 3 es 200\n"
          ]
        }
      ],
      "source": [
        "\n",
        "# Llamamos a la función que genera el reporte print(funcion(tanque1, tanque2, tanque3))\n",
        "print (combustible(100,150,200))"
      ]
    },
    {
      "cell_type": "markdown",
      "metadata": {},
      "source": [
        "En lugar de simplemente crear el informe, la función también está calculando el promedio. Mejora la legibilidad extrayendo el cálculo promedio de la función en una nueva función para que el promedio se pueda hacer de forma independiente:"
      ]
    },
    {
      "cell_type": "code",
      "execution_count": 19,
      "metadata": {},
      "outputs": [
        {
          "name": "stdout",
          "output_type": "stream",
          "text": [
            "el promedio es 150.0\n"
          ]
        }
      ],
      "source": [
        "# Función promedio \n",
        "\n",
        "def promedio(values):\n",
        "    suma = sum(values)\n",
        "    numtanques = len(values)\n",
        "    return suma / numtanques\n",
        "\n",
        "# Test the averaging function with a list of integers:\n",
        "print (\"el promedio es\", promedio([100, 150, 200]))"
      ]
    },
    {
      "cell_type": "markdown",
      "metadata": {},
      "source": [
        "Ahora actualiza la función de informes para llamando a la nueva función del promedio:\n"
      ]
    },
    {
      "cell_type": "code",
      "execution_count": 24,
      "metadata": {},
      "outputs": [
        {
          "name": "stdout",
          "output_type": "stream",
          "text": [
            "\n",
            "    Informe de combustible\n",
            "    ...El combustible del tanque 1 es  120\n",
            "    ...El combustible del tanque 2 es  150\n",
            "    ...El combustible del tanque 3 es 200\n",
            "    ...El promedio de combustible es 156.66666666666666\n"
          ]
        }
      ],
      "source": [
        "# Actualiza la función\n",
        "def combustible(tanque1, tanque2, tanque3):\n",
        "    return f\"\"\"\n",
        "    Informe de combustible\n",
        "    ...El combustible del tanque 1 es  {tanque1}\n",
        "    ...El combustible del tanque 2 es  {tanque2}\n",
        "    ...El combustible del tanque 3 es {tanque3}\n",
        "    ...El promedio de combustible es {promedio([tanque1,tanque2,tanque3])}\"\"\"\n",
        "\n",
        "print (combustible(120,150,200))\n"
      ]
    },
    {
      "cell_type": "markdown",
      "metadata": {},
      "source": [
        "> Recuerda: Lo importante es intentarlo, puedes auxiliarte de internet, libros, etc. El objetivo de una kata es la comprobación de la comprensión de la lección y su aplicación inmediata a la resolución de problemas. Go for it!"
      ]
    },
    {
      "cell_type": "markdown",
      "metadata": {},
      "source": [
        "## Ejercicio 2: Trabajo con argumentos de palabra clave"
      ]
    },
    {
      "cell_type": "markdown",
      "metadata": {},
      "source": [
        "### Ejercicio : Trabajar con argumentos de palabras clave en funciones\n",
        "En este ejercicio, construirás un informe de cohete que requiere varias piezas de información, como el tiempo hasta el destino, el combustible a la izquierda y el nombre del destino. Comienza por crear una función que creará un informe preciso de la misión:"
      ]
    },
    {
      "cell_type": "code",
      "execution_count": null,
      "metadata": {},
      "outputs": [],
      "source": [
        "# Función con un informe preciso de la misión. Considera hora de prelanzamiento, tiempo de vuelo, destino, tanque externo y tanque interno\n",
        "def informe(hora,tiempo,destino,tanqueex,tanquein):\n",
        "     return f\"\"\" Informe del cohete\n",
        "      Destino:{destino}\n",
        "    ...El tiempo de vuelo hasta llegar al destino es :{tiempo + hora}\n",
        "    ...El combustible {tanquein + tanqueex}\"\"\"\n",
        "    "
      ]
    },
    {
      "cell_type": "markdown",
      "metadata": {},
      "source": [
        "La función es problemática porque no se puede adaptar para minutos adicionales o tanques adicionales de combustible. Hazlo más flexible permitiendo cualquier número de pasos basados en el tiempo y cualquier número de tanques. En lugar de usar `*args` y `**kwargs`, aprovecha el hecho de que puedes usar cualquier nombre que desees. Asegurate que la función sea más legible mediante el uso de nombres de variables que están asociados con las entradas, como `*minutes` y `**fuel_reservoirs`:"
      ]
    },
    {
      "cell_type": "code",
      "execution_count": 1,
      "metadata": {},
      "outputs": [
        {
          "name": "stdout",
          "output_type": "stream",
          "text": [
            "\n",
            "    Destino: Moon\n",
            "    Tiempo de vuelo: 76 minutes\n",
            "    Combustible total: 500000\n",
            "    \n"
          ]
        }
      ],
      "source": [
        "# Escribe tu nueva función de reporte considerando lo anterior\n",
        "def informe(destino, *minutes, **fuel_reservoirs):\n",
        "    return f\"\"\"\n",
        "    Destino: {destino}\n",
        "    Tiempo de vuelo: {sum(minutes)} minutes\n",
        "    Combustible total: {sum(fuel_reservoirs.values())}\n",
        "    \"\"\"\n",
        "print(informe(\"Moon\", 10, 15, 51, main=300000, external=200000))"
      ]
    },
    {
      "cell_type": "markdown",
      "metadata": {},
      "source": [
        "Debido a que el combustible que queda en los tanques es específico de cada tanque, actualiza la función para usar el nombre de cada tanque en el informe:"
      ]
    },
    {
      "cell_type": "code",
      "execution_count": 13,
      "metadata": {},
      "outputs": [
        {
          "name": "stdout",
          "output_type": "stream",
          "text": [
            "\n",
            "    Destino: Moon\n",
            "    Tiempo de vuelo : 74 minutes\n",
            "    Combustible total: 500000\n",
            "    tanque_interno --> 300000 gallons left\n",
            "Tanque_externo --> 200000 gallons left\n",
            "\n"
          ]
        }
      ],
      "source": [
        "# Escribe tu nueva función\n",
        "def informe(destino, *minutes, **fuel_reservoirs):\n",
        "    reporte = f\"\"\"\n",
        "    Destino: {destino}\n",
        "    Tiempo de vuelo : {sum(minutes)} minutes\n",
        "    Combustible total: {sum(fuel_reservoirs.values())}\n",
        "    \"\"\"\n",
        "    for tanquein, gallons in fuel_reservoirs.items():\n",
        "       reporte += f\"{tanquein} --> {gallons} gallons left\\n\"\n",
        "    return reporte\n",
        "\n",
        "print(informe(\"Moon\", 8, 11, 55, tanque_interno=300000, Tanque_externo=200000))"
      ]
    }
  ],
  "metadata": {
    "interpreter": {
      "hash": "205095b8b86ea82a021a8fc2ffba2b3bc9f8d0be25999901963b225939f75778"
    },
    "kernelspec": {
      "display_name": "Python 3.8.10 64-bit ('tmp': conda)",
      "name": "python3"
    },
    "language_info": {
      "codemirror_mode": {
        "name": "ipython",
        "version": 3
      },
      "file_extension": ".py",
      "mimetype": "text/x-python",
      "name": "python",
      "nbconvert_exporter": "python",
      "pygments_lexer": "ipython3",
      "version": "3.10.2"
    },
    "nteract": {
      "version": "nteract-front-end@1.0.0"
    },
    "orig_nbformat": 4
  },
  "nbformat": 4,
  "nbformat_minor": 2
}
